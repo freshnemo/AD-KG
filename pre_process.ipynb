{
 "cells": [
  {
   "cell_type": "code",
   "execution_count": 1,
   "metadata": {},
   "outputs": [],
   "source": [
    "import numpy as np\n",
    "import pandas as pd\n",
    "import pickle\n",
    "import matplotlib as plt\n",
    "from itertools import combinations\n",
    "import re\n",
    "from tqdm import tqdm"
   ]
  },
  {
   "cell_type": "code",
   "execution_count": 2,
   "metadata": {},
   "outputs": [],
   "source": [
    "\n",
    "exp_id='exp1'"
   ]
  },
  {
   "cell_type": "code",
   "execution_count": 3,
   "metadata": {},
   "outputs": [],
   "source": [
    "def readpkl (datapath):\n",
    "    fp = gzip.open(datapath) # or fp = open(pkl_filename) for .pkl files\n",
    "    df=pickle.load(fp)\n",
    "    return df"
   ]
  },
  {
   "cell_type": "markdown",
   "metadata": {},
   "source": [
    "### Gene mapping files"
   ]
  },
  {
   "cell_type": "code",
   "execution_count": 4,
   "metadata": {},
   "outputs": [],
   "source": [
    "humangene=pd.read_csv('./AD_progect/data/NIH-gene-inf/Homo_sapiens.gene_info',sep='\\t')\n",
    "humangene=humangene[humangene['#tax_id']==9606]\n",
    "humangene=humangene[humangene['type_of_gene']=='protein-coding']\n",
    "humangene=humangene[['GeneID','Symbol','Synonyms']]\n",
    "humangene['GeneID']=humangene['GeneID'].astype(str)\n",
    "humangene1=humangene[['GeneID','Symbol']].groupby('Symbol').count().reset_index()\n",
    "humangene1=humangene1[humangene1.GeneID==1]# remove genesym has more than one ID\n",
    "humangene=humangene[humangene.Symbol.isin(humangene1.Symbol.values)]\n",
    "allsymbol=[]\n",
    "allsynom=[]\n",
    "for i in range(len(humangene)):\n",
    "    symbol=humangene.Symbol.values[i]\n",
    "    synom=str(humangene.Synonyms.values[i]).split('|')\n",
    "    synom.append(symbol)\n",
    "    for j in synom:\n",
    "        allsymbol.append(symbol)\n",
    "        allsynom.append(j)\n",
    "syntosym=pd.DataFrame(allsymbol,columns=['symbol'])\n",
    "syntosym['synom']=allsynom\n",
    "syntosym1=syntosym.groupby('synom').count().reset_index()\n",
    "syntosym1=syntosym1[syntosym1.symbol==1]\n",
    "syntosym=syntosym[syntosym.synom.isin(syntosym1.synom.values)]\n",
    "\n",
    "#gene symbol to Entrez ID\n",
    "codes={}\n",
    "codes['gene_symbol2id']={row[1]:row[0] for idx, row in humangene[['GeneID','Symbol']].iterrows()} #gene symbol to Entrez ID\n",
    "codes['gene_id2symbol']={row[0]:row[1] for idx, row in humangene[['GeneID','Symbol']].iterrows()} #Entrez ID to gene symbol\n",
    "codes['gene_syno2symbol']={row[0]:row[1] for idx, row in syntosym[['synom','symbol']].iterrows()} #Synonym to gene symbol\n",
    "#codes #gene_symbol2id, gene_id2symbol, gene_syno2symbol "
   ]
  },
  {
   "cell_type": "markdown",
   "metadata": {},
   "source": [
    "## ADgene"
   ]
  },
  {
   "cell_type": "code",
   "execution_count": 5,
   "metadata": {},
   "outputs": [
    {
     "data": {
      "text/html": [
       "<div>\n",
       "<style scoped>\n",
       "    .dataframe tbody tr th:only-of-type {\n",
       "        vertical-align: middle;\n",
       "    }\n",
       "\n",
       "    .dataframe tbody tr th {\n",
       "        vertical-align: top;\n",
       "    }\n",
       "\n",
       "    .dataframe thead th {\n",
       "        text-align: right;\n",
       "    }\n",
       "</style>\n",
       "<table border=\"1\" class=\"dataframe\">\n",
       "  <thead>\n",
       "    <tr style=\"text-align: right;\">\n",
       "      <th></th>\n",
       "      <th>hgnc_symbol</th>\n",
       "    </tr>\n",
       "  </thead>\n",
       "  <tbody>\n",
       "    <tr>\n",
       "      <th>0</th>\n",
       "      <td>AKT1</td>\n",
       "    </tr>\n",
       "    <tr>\n",
       "      <th>1</th>\n",
       "      <td>APP</td>\n",
       "    </tr>\n",
       "    <tr>\n",
       "      <th>2</th>\n",
       "      <td>IL1B</td>\n",
       "    </tr>\n",
       "    <tr>\n",
       "      <th>3</th>\n",
       "      <td>IL6</td>\n",
       "    </tr>\n",
       "    <tr>\n",
       "      <th>4</th>\n",
       "      <td>IRS1</td>\n",
       "    </tr>\n",
       "    <tr>\n",
       "      <th>...</th>\n",
       "      <td>...</td>\n",
       "    </tr>\n",
       "    <tr>\n",
       "      <th>738</th>\n",
       "      <td>YARS</td>\n",
       "    </tr>\n",
       "    <tr>\n",
       "      <th>739</th>\n",
       "      <td>YIF1B</td>\n",
       "    </tr>\n",
       "    <tr>\n",
       "      <th>740</th>\n",
       "      <td>ZBTB16</td>\n",
       "    </tr>\n",
       "    <tr>\n",
       "      <th>741</th>\n",
       "      <td>ZNF536</td>\n",
       "    </tr>\n",
       "    <tr>\n",
       "      <th>742</th>\n",
       "      <td>ZWINT</td>\n",
       "    </tr>\n",
       "  </tbody>\n",
       "</table>\n",
       "<p>743 rows × 1 columns</p>\n",
       "</div>"
      ],
      "text/plain": [
       "    hgnc_symbol\n",
       "0          AKT1\n",
       "1           APP\n",
       "2          IL1B\n",
       "3           IL6\n",
       "4          IRS1\n",
       "..          ...\n",
       "738        YARS\n",
       "739       YIF1B\n",
       "740      ZBTB16\n",
       "741      ZNF536\n",
       "742       ZWINT\n",
       "\n",
       "[743 rows x 1 columns]"
      ]
     },
     "execution_count": 5,
     "metadata": {},
     "output_type": "execute_result"
    }
   ],
   "source": [
    "adgenelist=pd.read_csv('./AD_progect/data/CTD_subset/merge-genes-list.csv', index_col=0)\n",
    "adgenelist[adgenelist.notnull()]"
   ]
  },
  {
   "cell_type": "markdown",
   "metadata": {},
   "source": [
    "## CTD drug-gene (evidence not specific to AD, not human-specific)"
   ]
  },
  {
   "cell_type": "code",
   "execution_count": 6,
   "metadata": {},
   "outputs": [],
   "source": [
    "gene_drug=pd.read_csv('./AD_progect/data/CTD_subset/CTD/chemical-gene interactions.csv', sep=',')\n",
    "gene_drug=gene_drug[gene_drug['Gene Symbol'].isin(list(codes['gene_symbol2id'].keys()))]"
   ]
  },
  {
   "cell_type": "code",
   "execution_count": 7,
   "metadata": {},
   "outputs": [
    {
     "data": {
      "text/plain": [
       "array(['A1BG', 'A2M', 'AAMP', ..., 'ZSCAN26', 'ZSWIM3', 'ZXDA'],\n",
       "      dtype=object)"
      ]
     },
     "execution_count": 7,
     "metadata": {},
     "output_type": "execute_result"
    }
   ],
   "source": [
    "gene_drug[gene_drug['Chemical Name']=='Cadmium']['Gene Symbol'].values"
   ]
  },
  {
   "cell_type": "code",
   "execution_count": 8,
   "metadata": {},
   "outputs": [],
   "source": [
    "codes['drugname2mesh']={row[0].upper():row[1] for idx, row in gene_drug[['Chemical Name','Chemical ID']].drop_duplicates().iterrows()}\n",
    "codes['mesh2drugname']={row[0].upper():row[1] for idx, row in gene_drug[['Chemical ID','Chemical Name']].drop_duplicates().iterrows()}\n",
    "\n",
    "drug_name_AD_ctdid = pd.DataFrame(zip(codes['drugname2mesh'].keys(), codes['drugname2mesh'].values()),columns=['name','CTD_id'])\n",
    "drug_name_AD_ctdid.to_csv('drug_name_AD_ctdid.csv')"
   ]
  },
  {
   "cell_type": "code",
   "execution_count": 9,
   "metadata": {},
   "outputs": [],
   "source": [
    "gene_drug=gene_drug[['Gene ID', 'Chemical ID', 'Chemical Name']].drop_duplicates()\n",
    "gene_drug['Gene ID']=gene_drug['Gene ID'].apply(lambda x: 'gene_'+str(x))\n",
    "gene_drug['Chemical ID']=gene_drug['Chemical ID'].apply(lambda x: 'drug_'+x)\n",
    "gene_drug['Chemical Name'] = ['drug_'+i.upper() for i in gene_drug['Chemical Name']]"
   ]
  },
  {
   "cell_type": "code",
   "execution_count": 11,
   "metadata": {},
   "outputs": [
    {
     "data": {
      "text/plain": [
       "[6543, 16997]"
      ]
     },
     "execution_count": 11,
     "metadata": {},
     "output_type": "execute_result"
    }
   ],
   "source": [
    "# Change column name\n",
    "#gene_drug = gene_drug.rename(columns={'Gene ID': 'node1', 'Chemical ID': 'node2'})\n",
    "[len(gene_drug['Chemical ID'].unique()), len(gene_drug['Gene ID'].unique())]"
   ]
  },
  {
   "cell_type": "markdown",
   "metadata": {},
   "source": [
    "## CTD drug-pathway (pathways were inferred by genes, then drug connected based on drug-gene interactions)"
   ]
  },
  {
   "cell_type": "code",
   "execution_count": 12,
   "metadata": {},
   "outputs": [
    {
     "data": {
      "text/plain": [
       "[4748, 1622]"
      ]
     },
     "execution_count": 12,
     "metadata": {},
     "output_type": "execute_result"
    }
   ],
   "source": [
    "drug_tf_idf_1=pd.read_csv('./AD_progect/data/Drug-pathway-GSEA/enrich_kegg_drug_path.csv')\n",
    "drug_tf_idf_2=pd.read_csv('./AD_progect/data/Drug-pathway-GSEA/enrich_ractome_drug_path.csv')\n",
    "drug_tf_idf=pd.concat([drug_tf_idf_1,drug_tf_idf_2])\n",
    "drug_tf_idf=drug_tf_idf.rename(columns={'Chemical Name': 'drugname','map_id':'pathway'})\n",
    "drug_tf_idf=drug_tf_idf[['drugname','pathway']]\n",
    "drug_tf_idf['pathway']=['pathway_'+i for i in drug_tf_idf['pathway']]\n",
    "drug_tf_idf['drugname']=['drug_'+i.upper() for i in drug_tf_idf['drugname']]\n",
    "drug_tf_idf=drug_tf_idf[drug_tf_idf.drugname.isin(gene_drug['Chemical Name'].values)]\n",
    "drug_tf_idf=drug_tf_idf[['drugname','pathway']]\n",
    "[len(drug_tf_idf['drugname'].unique()), len(drug_tf_idf['pathway'].unique())]"
   ]
  },
  {
   "cell_type": "markdown",
   "metadata": {},
   "source": [
    "## CTD AD-gene-pathway (all CTD pathways related to ADgene)"
   ]
  },
  {
   "cell_type": "code",
   "execution_count": 13,
   "metadata": {},
   "outputs": [
    {
     "data": {
      "text/plain": [
       "[678, 82]"
      ]
     },
     "execution_count": 13,
     "metadata": {},
     "output_type": "execute_result"
    }
   ],
   "source": [
    "ADgene_pathways=pd.read_csv('/AD_progect/data/Drug-pathway-GSEA/ad_related_path.csv')\n",
    "ADgene_pathways.columns=['pathway','AD_gene']\n",
    "ADgene_pathways['pathway']=['pathway_'+i for i in ADgene_pathways['pathway']]\n",
    "ADgene_pathways['AD_gene']=ADgene_pathways['AD_gene'].map(codes['gene_symbol2id'])\n",
    "ADgene_pathways['AD_gene']=['gene_'+str(i) for i in ADgene_pathways['AD_gene']]\n",
    "ADgene_pathways = ADgene_pathways.rename(columns={'pathway': 'node1', 'AD_gene': 'node2'})\n",
    "\n",
    "[len(ADgene_pathways['pathway'].unique()), len(ADgene_pathways['AD_gene'].unique())]"
   ]
  },
  {
   "cell_type": "code",
   "execution_count": 15,
   "metadata": {},
   "outputs": [
    {
     "data": {
      "text/html": [
       "<div>\n",
       "<style scoped>\n",
       "    .dataframe tbody tr th:only-of-type {\n",
       "        vertical-align: middle;\n",
       "    }\n",
       "\n",
       "    .dataframe tbody tr th {\n",
       "        vertical-align: top;\n",
       "    }\n",
       "\n",
       "    .dataframe thead th {\n",
       "        text-align: right;\n",
       "    }\n",
       "</style>\n",
       "<table border=\"1\" class=\"dataframe\">\n",
       "  <thead>\n",
       "    <tr style=\"text-align: right;\">\n",
       "      <th></th>\n",
       "      <th>node1</th>\n",
       "      <th>node2</th>\n",
       "    </tr>\n",
       "  </thead>\n",
       "  <tbody>\n",
       "    <tr>\n",
       "      <th>0</th>\n",
       "      <td>pathway_PC7_4688</td>\n",
       "      <td>gene_102</td>\n",
       "    </tr>\n",
       "    <tr>\n",
       "      <th>1</th>\n",
       "      <td>pathway_PC7_4688</td>\n",
       "      <td>gene_351</td>\n",
       "    </tr>\n",
       "    <tr>\n",
       "      <th>2</th>\n",
       "      <td>pathway_PC7_4688</td>\n",
       "      <td>gene_596</td>\n",
       "    </tr>\n",
       "    <tr>\n",
       "      <th>3</th>\n",
       "      <td>pathway_PC7_4688</td>\n",
       "      <td>gene_801</td>\n",
       "    </tr>\n",
       "    <tr>\n",
       "      <th>4</th>\n",
       "      <td>pathway_PC7_4688</td>\n",
       "      <td>gene_836</td>\n",
       "    </tr>\n",
       "    <tr>\n",
       "      <th>...</th>\n",
       "      <td>...</td>\n",
       "      <td>...</td>\n",
       "    </tr>\n",
       "    <tr>\n",
       "      <th>1773</th>\n",
       "      <td>pathway_PC7_8786</td>\n",
       "      <td>gene_1200</td>\n",
       "    </tr>\n",
       "    <tr>\n",
       "      <th>1774</th>\n",
       "      <td>pathway_PC7_8790</td>\n",
       "      <td>gene_1565</td>\n",
       "    </tr>\n",
       "    <tr>\n",
       "      <th>1775</th>\n",
       "      <td>pathway_PC7_8803</td>\n",
       "      <td>gene_351</td>\n",
       "    </tr>\n",
       "    <tr>\n",
       "      <th>1776</th>\n",
       "      <td>pathway_PC7_8833</td>\n",
       "      <td>gene_55676</td>\n",
       "    </tr>\n",
       "    <tr>\n",
       "      <th>1777</th>\n",
       "      <td>pathway_PC7_8856</td>\n",
       "      <td>gene_55676</td>\n",
       "    </tr>\n",
       "  </tbody>\n",
       "</table>\n",
       "<p>1778 rows × 2 columns</p>\n",
       "</div>"
      ],
      "text/plain": [
       "                 node1       node2\n",
       "0     pathway_PC7_4688    gene_102\n",
       "1     pathway_PC7_4688    gene_351\n",
       "2     pathway_PC7_4688    gene_596\n",
       "3     pathway_PC7_4688    gene_801\n",
       "4     pathway_PC7_4688    gene_836\n",
       "...                ...         ...\n",
       "1773  pathway_PC7_8786   gene_1200\n",
       "1774  pathway_PC7_8790   gene_1565\n",
       "1775  pathway_PC7_8803    gene_351\n",
       "1776  pathway_PC7_8833  gene_55676\n",
       "1777  pathway_PC7_8856  gene_55676\n",
       "\n",
       "[1778 rows x 2 columns]"
      ]
     },
     "execution_count": 15,
     "metadata": {},
     "output_type": "execute_result"
    }
   ],
   "source": [
    "ADgene_pathways"
   ]
  },
  {
   "cell_type": "markdown",
   "metadata": {},
   "source": [
    "## drug-drug-simlarity"
   ]
  },
  {
   "cell_type": "code",
   "execution_count": 17,
   "metadata": {},
   "outputs": [],
   "source": [
    "data_path = './AD_progect/data/similarity_tables/'\n",
    "\n",
    "drugsimpath = ['Atom-pair_similarity.csv', 'MACCS_key_similarity.csv', 'Morgan_2_similarity.csv', 'Topology_similarity.csv']\n"
   ]
  },
  {
   "cell_type": "code",
   "execution_count": 18,
   "metadata": {},
   "outputs": [
    {
     "data": {
      "text/html": [
       "<div>\n",
       "<style scoped>\n",
       "    .dataframe tbody tr th:only-of-type {\n",
       "        vertical-align: middle;\n",
       "    }\n",
       "\n",
       "    .dataframe tbody tr th {\n",
       "        vertical-align: top;\n",
       "    }\n",
       "\n",
       "    .dataframe thead th {\n",
       "        text-align: right;\n",
       "    }\n",
       "</style>\n",
       "<table border=\"1\" class=\"dataframe\">\n",
       "  <thead>\n",
       "    <tr style=\"text-align: right;\">\n",
       "      <th></th>\n",
       "      <th>drug_a</th>\n",
       "      <th>drug_b</th>\n",
       "    </tr>\n",
       "  </thead>\n",
       "  <tbody>\n",
       "    <tr>\n",
       "      <th>182</th>\n",
       "      <td>drug_10-HYDROXYCAMPTOTHECIN</td>\n",
       "      <td>drug_CAMPTOTHECIN</td>\n",
       "    </tr>\n",
       "    <tr>\n",
       "      <th>184</th>\n",
       "      <td>drug_10-HYDROXYCAMPTOTHECIN</td>\n",
       "      <td>drug_INDOMETHACIN</td>\n",
       "    </tr>\n",
       "    <tr>\n",
       "      <th>186</th>\n",
       "      <td>drug_10-HYDROXYCAMPTOTHECIN</td>\n",
       "      <td>drug_TOPOTECAN</td>\n",
       "    </tr>\n",
       "    <tr>\n",
       "      <th>1379</th>\n",
       "      <td>drug_3,3'-DIINDOLYLMETHANE</td>\n",
       "      <td>drug_AXITINIB</td>\n",
       "    </tr>\n",
       "    <tr>\n",
       "      <th>1383</th>\n",
       "      <td>drug_3,3'-DIINDOLYLMETHANE</td>\n",
       "      <td>drug_CHRYSIN</td>\n",
       "    </tr>\n",
       "    <tr>\n",
       "      <th>...</th>\n",
       "      <td>...</td>\n",
       "      <td>...</td>\n",
       "    </tr>\n",
       "    <tr>\n",
       "      <th>55384</th>\n",
       "      <td>drug_STAUROSPORINE</td>\n",
       "      <td>drug_VINPOCETINE</td>\n",
       "    </tr>\n",
       "    <tr>\n",
       "      <th>55392</th>\n",
       "      <td>drug_STAUROSPORINE</td>\n",
       "      <td>drug_WORTMANNIN</td>\n",
       "    </tr>\n",
       "    <tr>\n",
       "      <th>55395</th>\n",
       "      <td>drug_STAUROSPORINE</td>\n",
       "      <td>drug_DOXYCYCLINE</td>\n",
       "    </tr>\n",
       "    <tr>\n",
       "      <th>55396</th>\n",
       "      <td>drug_STAUROSPORINE</td>\n",
       "      <td>drug_MINOCYCLINE</td>\n",
       "    </tr>\n",
       "    <tr>\n",
       "      <th>55425</th>\n",
       "      <td>drug_THAPSIGARGIN</td>\n",
       "      <td>drug_TRIPTONIDE</td>\n",
       "    </tr>\n",
       "  </tbody>\n",
       "</table>\n",
       "<p>6588 rows × 2 columns</p>\n",
       "</div>"
      ],
      "text/plain": [
       "                            drug_a             drug_b\n",
       "182    drug_10-HYDROXYCAMPTOTHECIN  drug_CAMPTOTHECIN\n",
       "184    drug_10-HYDROXYCAMPTOTHECIN  drug_INDOMETHACIN\n",
       "186    drug_10-HYDROXYCAMPTOTHECIN     drug_TOPOTECAN\n",
       "1379    drug_3,3'-DIINDOLYLMETHANE      drug_AXITINIB\n",
       "1383    drug_3,3'-DIINDOLYLMETHANE       drug_CHRYSIN\n",
       "...                            ...                ...\n",
       "55384           drug_STAUROSPORINE   drug_VINPOCETINE\n",
       "55392           drug_STAUROSPORINE    drug_WORTMANNIN\n",
       "55395           drug_STAUROSPORINE   drug_DOXYCYCLINE\n",
       "55396           drug_STAUROSPORINE   drug_MINOCYCLINE\n",
       "55425            drug_THAPSIGARGIN    drug_TRIPTONIDE\n",
       "\n",
       "[6588 rows x 2 columns]"
      ]
     },
     "execution_count": 18,
     "metadata": {},
     "output_type": "execute_result"
    }
   ],
   "source": [
    "alldrugsim=pd.DataFrame()\n",
    "for i in drugsimpath:\n",
    "    temp=pd.read_csv(data_path+i)\n",
    "    alldrugsim=pd.concat([alldrugsim,temp])\n",
    "alldrugsim['drug_a']=[i.upper() for i in alldrugsim['drug_a']]\n",
    "alldrugsim['drug_b']=[i.upper() for i in alldrugsim['drug_b']]\n",
    "\n",
    "alldrugsim=alldrugsim[['drug_a','drug_b']].drop_duplicates()\n",
    "alldrugsim=alldrugsim[alldrugsim.drug_a!=alldrugsim.drug_b]\n",
    "alldrugsim['drug_a']=['drug_'+i.upper() for i in alldrugsim['drug_a']]\n",
    "alldrugsim['drug_b']=['drug_'+i.upper() for i in alldrugsim['drug_b']]\n",
    "\n",
    "alldrugsim=alldrugsim[alldrugsim.drug_a.isin(gene_drug['Chemical Name'])]\n",
    "alldrugsim=alldrugsim[alldrugsim.drug_b.isin(gene_drug['Chemical Name'])]\n",
    "len(gene_drug['Chemical Name'].unique()), alldrugsim.shape[0]"
   ]
  },
  {
   "cell_type": "markdown",
   "metadata": {},
   "source": [
    "## protein - protein interaction"
   ]
  },
  {
   "cell_type": "code",
   "execution_count": 20,
   "metadata": {},
   "outputs": [],
   "source": [
    "\n",
    "PP_1=pd.read_csv('./AD_progect/data/CTD_subset/biology-database/KegglinkevaluationPPPN_1', header=None,sep='\\t')\n",
    "PP_1.columns=['protein1','protein2', 'positive']\n",
    "PP_1.replace('PP', 1, inplace=True)\n",
    "PP_1.replace('PN', 0, inplace=True)\n",
    "PP_1=path_sim_kegg.loc[PP_1['positive']==1, ['protein1','protein2']]\n",
    "PP_1['protein1']=PP_1['protein1'].astype(str)\n",
    "PP_1['protein2']=PP_1['protein2'].astype(str)\n",
    "PP_1['protein1']=PP_1['protein1'].apply(lambda x: codes['gene_id2symbol'].get(x))\n",
    "PP_1['protein2']=PP_1['protein2'].apply(lambda x: codes['gene_id2symbol'].get(x))\n",
    "PP_1=PP_1[PP_1.gene1.isin(list(codes['gene_id2symbol'].values()))]\n",
    "PP_1=PP_1[PP_1.gene2.isin(list(codes['gene_id2symbol'].values()))]"
   ]
  },
  {
   "cell_type": "code",
   "execution_count": 23,
   "metadata": {},
   "outputs": [],
   "source": [
    "PP_1=PP_1[PP_1.gene1.isin(list(codes['gene_id2symbol'].values()))]\n",
    "PP_1=PP_1[PP_1.gene2.isin(list(codes['gene_id2symbol'].values()))]\n",
    "PP_1['protein1']=PP_1['gene1'].map(codes['gene_symbol2id'])\n",
    "PP_1['protein1']=['gene_'+str(i) for i in PP_1['gene1']]\n",
    "PP_1['protein2']=PP_1['gene2'].map(codes['gene_symbol2id'])\n",
    "PP_1['protein2']=['gene_'+str(i) for i in PP_1['gene2']]\n"
   ]
  },
  {
   "cell_type": "code",
   "execution_count": 30,
   "metadata": {},
   "outputs": [],
   "source": [
    "# Downloaded file was homo sapiens interactome\n",
    "# please download data from https://string-db.org/cgi/download?sessionId=%24input-%3E%7BsessionId%7D&species_text=Homo+sapiens\n",
    "# into ./AD_progect/data/STRING\n",
    "string=readpkl('./AD_progect/data/STRING/INTERACTIONDATA/9606.protein.links.full.v11.0.pkl.gz')\n",
    "# filtered by score >= 950\n",
    "string=string[string.combined_score>=950]\n",
    "string=string[['protein1','protein2']]"
   ]
  },
  {
   "cell_type": "code",
   "execution_count": 35,
   "metadata": {},
   "outputs": [],
   "source": [
    "\n",
    "stringinf=readpkl('./AD_progect/data/STRING/ACCESSORYDATA/9606.protein.info.v11.0.pkl.gz')\n",
    "stringinf=stringinf[['protein_external_id','preferred_name']]\n",
    "stringinf=stringinf[stringinf.preferred_name.isin(list(codes['gene_symbol2id'].keys()))].drop_duplicates()\n",
    "stringinf={stringinf.protein_external_id.values[i]:stringinf.preferred_name.values[i] for i in range(len(stringinf))}\n",
    "string['protein1']=string['protein1'].map(stringinf)\n",
    "string['protein2']=string['protein2'].map(stringinf)\n",
    "string=string.drop_duplicates()\n",
    "string=string[string['protein1'].isin(list(stringinf.values()))]\n",
    "string=string[string['protein2'].isin(list(stringinf.values()))]  \n",
    "string=string[string['protein1'].isin(list(codes['gene_symbol2id'].keys()))]\n",
    "string=string[string['protein2'].isin(list(codes['gene_symbol2id'].keys()))]"
   ]
  },
  {
   "cell_type": "code",
   "execution_count": 36,
   "metadata": {},
   "outputs": [],
   "source": [
    "string['protein1']=string['protein1'].map(codes['gene_symbol2id'])\n",
    "string['protein1']=string['protein1'].apply(lambda x: 'gene_'+str(x))\n",
    "string['protein2']=string['protein2'].map(codes['gene_symbol2id'])\n",
    "string['protein2']=string['protein2'].apply(lambda x: 'gene_'+str(x))"
   ]
  },
  {
   "cell_type": "code",
   "execution_count": null,
   "metadata": {},
   "outputs": [],
   "source": [
    "PP_2=pd.concat([PP_1, string])"
   ]
  },
  {
   "cell_type": "markdown",
   "metadata": {},
   "source": [
    "## Drug-Phenotypes (inferred by drugs, not AD-specific)"
   ]
  },
  {
   "cell_type": "code",
   "execution_count": 45,
   "metadata": {},
   "outputs": [
    {
     "data": {
      "text/html": [
       "<div>\n",
       "<style scoped>\n",
       "    .dataframe tbody tr th:only-of-type {\n",
       "        vertical-align: middle;\n",
       "    }\n",
       "\n",
       "    .dataframe tbody tr th {\n",
       "        vertical-align: top;\n",
       "    }\n",
       "\n",
       "    .dataframe thead th {\n",
       "        text-align: right;\n",
       "    }\n",
       "</style>\n",
       "<table border=\"1\" class=\"dataframe\">\n",
       "  <thead>\n",
       "    <tr style=\"text-align: right;\">\n",
       "      <th></th>\n",
       "      <th>Phenotype Term ID</th>\n",
       "      <th>drug</th>\n",
       "    </tr>\n",
       "  </thead>\n",
       "  <tbody>\n",
       "    <tr>\n",
       "      <th>0</th>\n",
       "      <td>GO:0006915</td>\n",
       "      <td>27-HYDROXYCHOLESTEROL</td>\n",
       "    </tr>\n",
       "    <tr>\n",
       "      <th>1</th>\n",
       "      <td>GO:0008283</td>\n",
       "      <td>27-HYDROXYCHOLESTEROL</td>\n",
       "    </tr>\n",
       "    <tr>\n",
       "      <th>2</th>\n",
       "      <td>GO:0008219</td>\n",
       "      <td>4-HYDROXY-2-NONENAL</td>\n",
       "    </tr>\n",
       "    <tr>\n",
       "      <th>3</th>\n",
       "      <td>GO:0016042</td>\n",
       "      <td>4-HYDROXY-2-NONENAL</td>\n",
       "    </tr>\n",
       "    <tr>\n",
       "      <th>4</th>\n",
       "      <td>GO:0006979</td>\n",
       "      <td>4-HYDROXY-2-NONENAL</td>\n",
       "    </tr>\n",
       "    <tr>\n",
       "      <th>...</th>\n",
       "      <td>...</td>\n",
       "      <td>...</td>\n",
       "    </tr>\n",
       "    <tr>\n",
       "      <th>152706</th>\n",
       "      <td>GO:0006915</td>\n",
       "      <td>TACRINE</td>\n",
       "    </tr>\n",
       "    <tr>\n",
       "      <th>152707</th>\n",
       "      <td>GO:0008283</td>\n",
       "      <td>ZINC</td>\n",
       "    </tr>\n",
       "    <tr>\n",
       "      <th>155169</th>\n",
       "      <td>GO:0006915</td>\n",
       "      <td>THIOUREA</td>\n",
       "    </tr>\n",
       "    <tr>\n",
       "      <th>157632</th>\n",
       "      <td>GO:0006915</td>\n",
       "      <td>VITAMIN D</td>\n",
       "    </tr>\n",
       "    <tr>\n",
       "      <th>160095</th>\n",
       "      <td>GO:0006915</td>\n",
       "      <td>ZINC</td>\n",
       "    </tr>\n",
       "  </tbody>\n",
       "</table>\n",
       "<p>6817 rows × 2 columns</p>\n",
       "</div>"
      ],
      "text/plain": [
       "       Phenotype Term ID                   drug\n",
       "0             GO:0006915  27-HYDROXYCHOLESTEROL\n",
       "1             GO:0008283  27-HYDROXYCHOLESTEROL\n",
       "2             GO:0008219    4-HYDROXY-2-NONENAL\n",
       "3             GO:0016042    4-HYDROXY-2-NONENAL\n",
       "4             GO:0006979    4-HYDROXY-2-NONENAL\n",
       "...                  ...                    ...\n",
       "152706        GO:0006915                TACRINE\n",
       "152707        GO:0008283                   ZINC\n",
       "155169        GO:0006915               THIOUREA\n",
       "157632        GO:0006915              VITAMIN D\n",
       "160095        GO:0006915                   ZINC\n",
       "\n",
       "[6817 rows x 2 columns]"
      ]
     },
     "execution_count": 45,
     "metadata": {},
     "output_type": "execute_result"
    }
   ],
   "source": [
    "phenotypes=pd.read_csv('./AD_progect/data/CTD_subset/CTD/phenotypes.csv',sep=',')\n",
    "codes['phenotype_id_to_name']={row[0]:row[1] for idx, row in phenotypes[['Phenotype Term ID','Phenotype Term Name']].drop_duplicates().iterrows()}\n",
    "drug_phenotype=phenotypes['Chemical Inference Network'].dropna().apply(lambda x: x.split('|')).apply(pd.Series).merge(phenotypes['Phenotype Term ID'],left_index=True, right_index=True).melt(id_vars=['Phenotype Term ID'],value_name='drug').drop('variable', axis=1).dropna()\n",
    "drug_phenotype['drug']=drug_phenotype['drug'].apply(lambda x: x.upper())\n",
    "drug_phenotype.dropna(inplace=True)\n",
    "drug_phenotype['Phenotype Term ID']=drug_phenotype['Phenotype Term ID'].apply(lambda x: 'phenotype_'+x)\n",
    "drug_phenotype['drug']=drug_phenotype['drug'].apply(lambda x: 'drug_'+x)\n",
    "drug_phenotype=drug_phenotype[['drug', 'Phenotype Term ID']]\n",
    "drug_phenotype = drug_phenotype.rename(columns={'drug': 'node1', 'Phenotype Term ID': 'node2'})\n",
    "[len(drug_phenotype['node1'].unique()), len(drug_phenotype['node2'].unique())]\n"
   ]
  },
  {
   "cell_type": "markdown",
   "metadata": {},
   "source": [
    "## Gene-Phenotypes (inferred by genes, AD-specific)"
   ]
  },
  {
   "cell_type": "code",
   "execution_count": 50,
   "metadata": {},
   "outputs": [
    {
     "data": {
      "text/html": [
       "<div>\n",
       "<style scoped>\n",
       "    .dataframe tbody tr th:only-of-type {\n",
       "        vertical-align: middle;\n",
       "    }\n",
       "\n",
       "    .dataframe tbody tr th {\n",
       "        vertical-align: top;\n",
       "    }\n",
       "\n",
       "    .dataframe thead th {\n",
       "        text-align: right;\n",
       "    }\n",
       "</style>\n",
       "<table border=\"1\" class=\"dataframe\">\n",
       "  <thead>\n",
       "    <tr style=\"text-align: right;\">\n",
       "      <th></th>\n",
       "      <th>Phenotype Term ID</th>\n",
       "      <th>AD_gene</th>\n",
       "    </tr>\n",
       "  </thead>\n",
       "  <tbody>\n",
       "    <tr>\n",
       "      <th>0</th>\n",
       "      <td>phenotype_GO:0006915</td>\n",
       "      <td>gene_351</td>\n",
       "    </tr>\n",
       "    <tr>\n",
       "      <th>1</th>\n",
       "      <td>phenotype_GO:0008283</td>\n",
       "      <td>gene_1636</td>\n",
       "    </tr>\n",
       "    <tr>\n",
       "      <th>2</th>\n",
       "      <td>phenotype_GO:0008219</td>\n",
       "      <td>gene_3162</td>\n",
       "    </tr>\n",
       "    <tr>\n",
       "      <th>3</th>\n",
       "      <td>phenotype_GO:0016042</td>\n",
       "      <td>gene_5336</td>\n",
       "    </tr>\n",
       "    <tr>\n",
       "      <th>4</th>\n",
       "      <td>phenotype_GO:0006979</td>\n",
       "      <td>gene_348</td>\n",
       "    </tr>\n",
       "    <tr>\n",
       "      <th>...</th>\n",
       "      <td>...</td>\n",
       "      <td>...</td>\n",
       "    </tr>\n",
       "    <tr>\n",
       "      <th>7517</th>\n",
       "      <td>phenotype_GO:0005515</td>\n",
       "      <td>gene_1200</td>\n",
       "    </tr>\n",
       "    <tr>\n",
       "      <th>7518</th>\n",
       "      <td>phenotype_GO:0005515</td>\n",
       "      <td>gene_54209</td>\n",
       "    </tr>\n",
       "    <tr>\n",
       "      <th>7519</th>\n",
       "      <td>phenotype_GO:0005515</td>\n",
       "      <td>gene_7422</td>\n",
       "    </tr>\n",
       "    <tr>\n",
       "      <th>7520</th>\n",
       "      <td>phenotype_GO:0005515</td>\n",
       "      <td>gene_7447</td>\n",
       "    </tr>\n",
       "    <tr>\n",
       "      <th>7521</th>\n",
       "      <td>phenotype_GO:0005515</td>\n",
       "      <td>gene_51741</td>\n",
       "    </tr>\n",
       "  </tbody>\n",
       "</table>\n",
       "<p>7368 rows × 2 columns</p>\n",
       "</div>"
      ],
      "text/plain": [
       "         Phenotype Term ID     AD_gene\n",
       "0     phenotype_GO:0006915    gene_351\n",
       "1     phenotype_GO:0008283   gene_1636\n",
       "2     phenotype_GO:0008219   gene_3162\n",
       "3     phenotype_GO:0016042   gene_5336\n",
       "4     phenotype_GO:0006979    gene_348\n",
       "...                    ...         ...\n",
       "7517  phenotype_GO:0005515   gene_1200\n",
       "7518  phenotype_GO:0005515  gene_54209\n",
       "7519  phenotype_GO:0005515   gene_7422\n",
       "7520  phenotype_GO:0005515   gene_7447\n",
       "7521  phenotype_GO:0005515  gene_51741\n",
       "\n",
       "[7368 rows x 2 columns]"
      ]
     },
     "execution_count": 50,
     "metadata": {},
     "output_type": "execute_result"
    }
   ],
   "source": [
    "gene_phenotype=phenotypes['Gene Inference Network'].dropna().apply(lambda x: x.split('|')).apply(pd.Series).merge(phenotypes['Phenotype Term ID'],left_index=True, right_index=True).melt(id_vars=['Phenotype Term ID'],value_name='gene').drop('variable', axis=1).dropna()\n",
    "gene_phenotype['Phenotype Term ID']=gene_phenotype['Phenotype Term ID'].apply(lambda x: 'phenotype_'+x)\n",
    "\n",
    "# create a drugname to mesh table\n",
    "geneid_table= pd.DataFrame(codes['gene_symbol2id'].items(), columns=['gene', 'id'])\n",
    "# change drugname to id \n",
    "gene_phenotype = gene_phenotype.merge(geneid_table, left_on='gene', right_on='gene', how = 'left')\n",
    "gene_phenotype = gene_phenotype[gene_phenotype['id'].notnull()]\n",
    "gene_phenotype = gene_phenotype.drop(columns=['gene'])\n",
    "gene_phenotype = gene_phenotype.rename(columns={'id':'AD_gene'})\n",
    "gene_phenotype['AD_gene']=gene_phenotype['AD_gene'].apply(lambda x: 'gene_'+str(x))\n",
    "gene_phenotype = gene_phenotype.rename(columns={'AD_gene': 'node1', 'Phenotype Term ID': 'node2'})\n",
    "[len(gene_phenotype['node1'].unique()), len(gene_phenotype['node2'].unique())]"
   ]
  },
  {
   "cell_type": "markdown",
   "metadata": {},
   "source": [
    "## Item2idx mapping"
   ]
  },
  {
   "cell_type": "code",
   "execution_count": 52,
   "metadata": {},
   "outputs": [],
   "source": [
    "from sklearn.preprocessing import LabelEncoder"
   ]
  },
  {
   "cell_type": "code",
   "execution_count": 55,
   "metadata": {},
   "outputs": [],
   "source": [
    "def bidirection(dataframe):\n",
    "    df=dataframe\n",
    "    newdf=dataframe.copy()\n",
    "    newdf.columns=['node2','node1','type']\n",
    "    df=pd.concat([df,newdf])\n",
    "    return df"
   ]
  },
  {
   "cell_type": "code",
   "execution_count": 58,
   "metadata": {},
   "outputs": [],
   "source": [
    "# Remove chemical ID from gene_drug\n",
    "gene_drug = gene_drug[['Gene ID', 'Chemical Name']]\n",
    "gene_drug.columns=['node1', 'node2']# gene, drug\n",
    "# Change column names\n",
    "drug_tf_idf.columns=['node1', 'node2'] #  drug, pathway\n",
    "ADgene_pathways.columns=['node1', 'node2'] # pathway, Adgene\n",
    "\n",
    "alldrugsim.columns=['node1', 'node2'] # drug_a, drug_b\n",
    "ppi= PP_2\n",
    "gene_phenotype.columns=['node1','node2']#gene, phenotype\n",
    "drug_phenotype.columns=['node1','node2']#drug, phenotype\n",
    "\n",
    "path_sim.columns=['node1', 'node2']# gene1, gene2"
   ]
  },
  {
   "cell_type": "code",
   "execution_count": 59,
   "metadata": {},
   "outputs": [],
   "source": [
    "gene_drug['type']='gene-drug'\n",
    "drug_tf_idf['type']='drug_pathway'\n",
    "alldrugsim['type']='drug_sim'\n",
    "ppi['type']='protein-protein'\n",
    "gene_phenotype['type']='gene-phenotype'\n",
    "drug_phenotype['type']='drug-phenotype'\n",
    "ADgene_pathways['type']='AD_gene_pathway'\n"
   ]
  },
  {
   "cell_type": "code",
   "execution_count": 60,
   "metadata": {},
   "outputs": [],
   "source": [
    "drug_tf_idf=bidirection(drug_tf_idf)\n",
    "alldrugsim=bidirection(alldrugsim)\n",
    "ppi=bidirection(ppi)\n",
    "drug_phenotype=bidirection(drug_phenotype)\n",
    "gene_phenotype=bidirection(gene_phenotype)\n",
    "path_sim=bidirection(path_sim)"
   ]
  },
  {
   "cell_type": "code",
   "execution_count": 61,
   "metadata": {},
   "outputs": [],
   "source": [
    "edge_index=pd.concat([gene_drug, ppi, drug_phenotype,gene_phenotype,drug_tf_idf, alldrugsim, ADgene_pathways,path_sim])"
   ]
  },
  {
   "cell_type": "code",
   "execution_count": 71,
   "metadata": {
    "scrolled": true
   },
   "outputs": [],
   "source": [
    "edge_index=pd.concat([gene_drug, ppi, drug_phenotype,gene_phenotype,drug_tf_idf, alldrugsim, ADgene_pathways,path_sim])\n",
    "edge_index['node1']=edge_index['node1'].astype(str)\n",
    "edge_index['node2']=edge_index['node2'].astype(str)\n",
    "edge_index.to_csv('edge_index_kang_old.csv')"
   ]
  },
  {
   "cell_type": "code",
   "execution_count": 72,
   "metadata": {},
   "outputs": [
    {
     "data": {
      "text/plain": [
       "(1149715, 1149715)"
      ]
     },
     "execution_count": 72,
     "metadata": {},
     "output_type": "execute_result"
    }
   ],
   "source": [
    "node_1 = edge_index['node1'].tolist()\n",
    "node_2 = edge_index['node2'].tolist()\n",
    "len(node_1), len(node_2)"
   ]
  },
  {
   "cell_type": "markdown",
   "metadata": {},
   "source": [
    "Label Encoders"
   ]
  },
  {
   "cell_type": "code",
   "execution_count": 73,
   "metadata": {},
   "outputs": [],
   "source": [
    "node_name_list=list(set(list(edge_index['node1'].values)+list(edge_index['node2'].values)))\n",
    "node_name_list.sort()"
   ]
  },
  {
   "cell_type": "code",
   "execution_count": 74,
   "metadata": {},
   "outputs": [
    {
     "data": {
      "text/plain": [
       "LabelEncoder()"
      ]
     },
     "execution_count": 74,
     "metadata": {},
     "output_type": "execute_result"
    }
   ],
   "source": [
    "le=LabelEncoder()\n",
    "le.fit(node_name_list)"
   ]
  },
  {
   "cell_type": "code",
   "execution_count": 75,
   "metadata": {},
   "outputs": [
    {
     "data": {
      "text/html": [
       "<div>\n",
       "<style scoped>\n",
       "    .dataframe tbody tr th:only-of-type {\n",
       "        vertical-align: middle;\n",
       "    }\n",
       "\n",
       "    .dataframe tbody tr th {\n",
       "        vertical-align: top;\n",
       "    }\n",
       "\n",
       "    .dataframe thead th {\n",
       "        text-align: right;\n",
       "    }\n",
       "</style>\n",
       "<table border=\"1\" class=\"dataframe\">\n",
       "  <thead>\n",
       "    <tr style=\"text-align: right;\">\n",
       "      <th></th>\n",
       "      <th>node1</th>\n",
       "      <th>node2</th>\n",
       "      <th>type</th>\n",
       "    </tr>\n",
       "  </thead>\n",
       "  <tbody>\n",
       "    <tr>\n",
       "      <th>6</th>\n",
       "      <td>6544</td>\n",
       "      <td>1939</td>\n",
       "      <td>gene-drug</td>\n",
       "    </tr>\n",
       "    <tr>\n",
       "      <th>7</th>\n",
       "      <td>6544</td>\n",
       "      <td>2345</td>\n",
       "      <td>gene-drug</td>\n",
       "    </tr>\n",
       "    <tr>\n",
       "      <th>8</th>\n",
       "      <td>6544</td>\n",
       "      <td>2350</td>\n",
       "      <td>gene-drug</td>\n",
       "    </tr>\n",
       "    <tr>\n",
       "      <th>9</th>\n",
       "      <td>6544</td>\n",
       "      <td>3168</td>\n",
       "      <td>gene-drug</td>\n",
       "    </tr>\n",
       "    <tr>\n",
       "      <th>10</th>\n",
       "      <td>6544</td>\n",
       "      <td>4560</td>\n",
       "      <td>gene-drug</td>\n",
       "    </tr>\n",
       "    <tr>\n",
       "      <th>...</th>\n",
       "      <td>...</td>\n",
       "      <td>...</td>\n",
       "      <td>...</td>\n",
       "    </tr>\n",
       "    <tr>\n",
       "      <th>29503</th>\n",
       "      <td>21940</td>\n",
       "      <td>22378</td>\n",
       "      <td>protein-protein</td>\n",
       "    </tr>\n",
       "    <tr>\n",
       "      <th>29504</th>\n",
       "      <td>20896</td>\n",
       "      <td>22378</td>\n",
       "      <td>protein-protein</td>\n",
       "    </tr>\n",
       "    <tr>\n",
       "      <th>29505</th>\n",
       "      <td>17123</td>\n",
       "      <td>11204</td>\n",
       "      <td>protein-protein</td>\n",
       "    </tr>\n",
       "    <tr>\n",
       "      <th>29506</th>\n",
       "      <td>12484</td>\n",
       "      <td>12375</td>\n",
       "      <td>protein-protein</td>\n",
       "    </tr>\n",
       "    <tr>\n",
       "      <th>29507</th>\n",
       "      <td>23359</td>\n",
       "      <td>17123</td>\n",
       "      <td>protein-protein</td>\n",
       "    </tr>\n",
       "  </tbody>\n",
       "</table>\n",
       "<p>1149715 rows × 3 columns</p>\n",
       "</div>"
      ],
      "text/plain": [
       "       node1  node2             type\n",
       "6       6544   1939        gene-drug\n",
       "7       6544   2345        gene-drug\n",
       "8       6544   2350        gene-drug\n",
       "9       6544   3168        gene-drug\n",
       "10      6544   4560        gene-drug\n",
       "...      ...    ...              ...\n",
       "29503  21940  22378  protein-protein\n",
       "29504  20896  22378  protein-protein\n",
       "29505  17123  11204  protein-protein\n",
       "29506  12484  12375  protein-protein\n",
       "29507  23359  17123  protein-protein\n",
       "\n",
       "[1149715 rows x 3 columns]"
      ]
     },
     "execution_count": 75,
     "metadata": {},
     "output_type": "execute_result"
    }
   ],
   "source": [
    "edge_index['node1']=le.transform(edge_index['node1'])\n",
    "edge_index['node2']=le.transform(edge_index['node2'])\n",
    "edge_index"
   ]
  },
  {
   "cell_type": "code",
   "execution_count": 78,
   "metadata": {},
   "outputs": [
    {
     "data": {
      "text/plain": [
       "30279"
      ]
     },
     "execution_count": 78,
     "metadata": {},
     "output_type": "execute_result"
    }
   ],
   "source": [
    "len(le.classes_)"
   ]
  },
  {
   "cell_type": "markdown",
   "metadata": {},
   "source": [
    "## Import pre-trained embedding"
   ]
  },
  {
   "cell_type": "code",
   "execution_count": null,
   "metadata": {},
   "outputs": [],
   "source": [
    "#!wget https://dgl-data.s3-us-west-2.amazonaws.com/dataset/DRKG/drkg.tar.gz"
   ]
  },
  {
   "cell_type": "code",
   "execution_count": 79,
   "metadata": {},
   "outputs": [],
   "source": [
    "import csv"
   ]
  },
  {
   "cell_type": "code",
   "execution_count": 80,
   "metadata": {},
   "outputs": [],
   "source": [
    "#Get pretrained embedding\n",
    "\n",
    "entity_emb=np.load('/home/all_dataset/DRKG/embed/DRKG_TransE_l2_entity.npy')\n",
    "#rel_emb=np.load(data_path+'DRKG/embed/DRKG_TransE_l2_relation.npy')\n",
    "emb_size=entity_emb.shape[1]\n",
    "\n",
    "entity_idmap_file = '/home/all_dataset/DRKG/embed/entities.tsv'\n",
    "relation_idmap_file = '/home/all_dataset/DRKG/embed/relations.tsv'\n",
    "\n",
    "# Get all embedding ids\n",
    "entity_map = {}\n",
    "entity_id_map = {}\n",
    "with open(entity_idmap_file, newline='', encoding='utf-8') as csvfile:\n",
    "    reader = csv.DictReader(csvfile, delimiter='\\t', fieldnames=['name','id'])\n",
    "    for row_val in reader:\n",
    "        entity_map[row_val['name']] = int(row_val['id'])\n",
    "        entity_id_map[int(row_val['id'])] = row_val['name']\n",
    "\n",
    "# get drug, pathway, disease embedding ids\n",
    "entity_drug=list(entity_map.keys())\n",
    "entity_drug=[i for i in entity_drug if i.startswith('Compound::')]\n",
    "entity_pathway=list(entity_map.keys())\n",
    "entity_pathway=[i for i in entity_pathway if i.startswith('Pathway::')]\n",
    "entity_disease=list(entity_map.keys())\n",
    "entity_disease=[i for i in entity_disease if i.startswith('Disease::')]\n"
   ]
  },
  {
   "cell_type": "code",
   "execution_count": 81,
   "metadata": {},
   "outputs": [
    {
     "data": {
      "text/html": [
       "<div>\n",
       "<style scoped>\n",
       "    .dataframe tbody tr th:only-of-type {\n",
       "        vertical-align: middle;\n",
       "    }\n",
       "\n",
       "    .dataframe tbody tr th {\n",
       "        vertical-align: top;\n",
       "    }\n",
       "\n",
       "    .dataframe thead th {\n",
       "        text-align: right;\n",
       "    }\n",
       "</style>\n",
       "<table border=\"1\" class=\"dataframe\">\n",
       "  <thead>\n",
       "    <tr style=\"text-align: right;\">\n",
       "      <th></th>\n",
       "      <th>DRKG_index</th>\n",
       "      <th>ID</th>\n",
       "    </tr>\n",
       "  </thead>\n",
       "  <tbody>\n",
       "    <tr>\n",
       "      <th>0</th>\n",
       "      <td>DB02573</td>\n",
       "      <td>2397</td>\n",
       "    </tr>\n",
       "    <tr>\n",
       "      <th>1</th>\n",
       "      <td>DB05105</td>\n",
       "      <td>2398</td>\n",
       "    </tr>\n",
       "    <tr>\n",
       "      <th>2</th>\n",
       "      <td>DB00244</td>\n",
       "      <td>2401</td>\n",
       "    </tr>\n",
       "    <tr>\n",
       "      <th>3</th>\n",
       "      <td>DB00684</td>\n",
       "      <td>2402</td>\n",
       "    </tr>\n",
       "    <tr>\n",
       "      <th>4</th>\n",
       "      <td>DB03118</td>\n",
       "      <td>2404</td>\n",
       "    </tr>\n",
       "    <tr>\n",
       "      <th>...</th>\n",
       "      <td>...</td>\n",
       "      <td>...</td>\n",
       "    </tr>\n",
       "    <tr>\n",
       "      <th>24308</th>\n",
       "      <td>CHEMBL446325</td>\n",
       "      <td>96903</td>\n",
       "    </tr>\n",
       "    <tr>\n",
       "      <th>24309</th>\n",
       "      <td>CHEMBL44752</td>\n",
       "      <td>96904</td>\n",
       "    </tr>\n",
       "    <tr>\n",
       "      <th>24310</th>\n",
       "      <td>CHEMBL482477</td>\n",
       "      <td>96905</td>\n",
       "    </tr>\n",
       "    <tr>\n",
       "      <th>24311</th>\n",
       "      <td>CHEMBL576739</td>\n",
       "      <td>96910</td>\n",
       "    </tr>\n",
       "    <tr>\n",
       "      <th>24312</th>\n",
       "      <td>CHEMBL72844</td>\n",
       "      <td>96911</td>\n",
       "    </tr>\n",
       "  </tbody>\n",
       "</table>\n",
       "<p>24313 rows × 2 columns</p>\n",
       "</div>"
      ],
      "text/plain": [
       "         DRKG_index     ID\n",
       "0           DB02573   2397\n",
       "1           DB05105   2398\n",
       "2           DB00244   2401\n",
       "3           DB00684   2402\n",
       "4           DB03118   2404\n",
       "...             ...    ...\n",
       "24308  CHEMBL446325  96903\n",
       "24309   CHEMBL44752  96904\n",
       "24310  CHEMBL482477  96905\n",
       "24311  CHEMBL576739  96910\n",
       "24312   CHEMBL72844  96911\n",
       "\n",
       "[24313 rows x 2 columns]"
      ]
     },
     "execution_count": 81,
     "metadata": {},
     "output_type": "execute_result"
    }
   ],
   "source": [
    "# Extract DRKG drug ID-number pair\n",
    "entity_drug_pair = {x: entity_map[x] for x in entity_drug}\n",
    "entity_drug_pair\n",
    "# Select drug entity-ID pairs in DRKG, then clean their names\n",
    "entity_drug_table = pd.DataFrame(list(entity_drug_pair.items()), columns=['DRKG_index','ID'])\n",
    "entity_drug_table['DRKG_index']=[i.replace('Compound::','') for i in entity_drug_table['DRKG_index']]\n",
    "entity_drug_table['DRKG_index']=[i.replace('MESH:','') for i in entity_drug_table['DRKG_index']]\n",
    "entity_drug_table['DRKG_index']=[i.replace('molport:','') for i in entity_drug_table['DRKG_index']]\n",
    "# Remove consecutive 0 right after 'ZINC'\n",
    "entity_drug_table['DRKG_index']=['ZINC'+str(int(i.replace('zinc:ZINC',''))) if i[0:5]=='zinc:' else i for i in entity_drug_table['DRKG_index']]\n",
    "entity_drug_table['DRKG_index']=[i.replace('chebi:','CHEBI:') for i in entity_drug_table['DRKG_index']]\n",
    "entity_drug_table['DRKG_index']=[i.replace('pubchem:','PubChem') for i in entity_drug_table['DRKG_index']]\n",
    "entity_drug_table"
   ]
  },
  {
   "cell_type": "code",
   "execution_count": 82,
   "metadata": {},
   "outputs": [],
   "source": [
    "# Use the same way to clean DRKG drug entities\n",
    "entity_drug1=[i.replace('Compound::','') for i in entity_drug]\n",
    "entity_drug2=[i.replace('MESH:','') for i in entity_drug1]\n",
    "entity_drug3=[i.replace('molport:','') for i in entity_drug2]\n",
    "# Remove consecutive 0 right after 'ZINC'\n",
    "entity_drug4=['ZINC'+str(int(i.replace('zinc:ZINC',''))) if i[0:5]=='zinc:' else i for i in entity_drug3]\n",
    "entity_drug5=[i.replace('chebi:','CHEBI:') for i in entity_drug4]\n",
    "entity_drug6=[i.replace('pubchem:','PubChem') for i in entity_drug5]"
   ]
  },
  {
   "cell_type": "code",
   "execution_count": 83,
   "metadata": {},
   "outputs": [
    {
     "name": "stderr",
     "output_type": "stream",
     "text": [
      "<ipython-input-83-6d1da57d76a7>:9: SettingWithCopyWarning: \n",
      "A value is trying to be set on a copy of a slice from a DataFrame.\n",
      "Try using .loc[row_indexer,col_indexer] = value instead\n",
      "\n",
      "See the caveats in the documentation: https://pandas.pydata.org/pandas-docs/stable/user_guide/indexing.html#returning-a-view-versus-a-copy\n",
      "  allsym2['sym']=allsym1['sym'].apply(lambda x: 'Compound::'+str(x))\n",
      "<ipython-input-83-6d1da57d76a7>:12: SettingWithCopyWarning: \n",
      "A value is trying to be set on a copy of a slice from a DataFrame.\n",
      "Try using .loc[row_indexer,col_indexer] = value instead\n",
      "\n",
      "See the caveats in the documentation: https://pandas.pydata.org/pandas-docs/stable/user_guide/indexing.html#returning-a-view-versus-a-copy\n",
      "  allsym3['sym']=allsym3['sym'].apply(lambda x: 'Compound::MESH:'+str(x))\n"
     ]
    },
    {
     "data": {
      "text/plain": [
       "3729"
      ]
     },
     "execution_count": 83,
     "metadata": {},
     "output_type": "execute_result"
    }
   ],
   "source": [
    "# Pubchempy drug synonyms\n",
    "pubchempy = pd.read_csv('/AD_project/sym/Pubchem_query/pubchem_drug_sym_map.csv')\n",
    "allsym = pubchempy\n",
    "#allsym1=allsym[allsym.sym.isin(entity_drug6)]\n",
    "#allsym1=allsym1.groupby('drugname').first().reset_index()\n",
    "allsym1=allsym[allsym.sym.isin(entity_drug6)]\n",
    "# Add 'Compound::' to those with DB, CHEMBL, CHEBI IDs \n",
    "allsym2=allsym1[(allsym1.sym.str.startswith('DB'))|(allsym1.sym.str.startswith('CHEMBL'))|(allsym1.sym.str.startswith('CHEBI'))]\n",
    "allsym2['sym']=allsym1['sym'].apply(lambda x: 'Compound::'+str(x))\n",
    "# Add 'Compound::MESH:' to those with MESH IDs \n",
    "allsym3=allsym1[~allsym1.drugname.isin(allsym2.drugname.values)]\n",
    "allsym3['sym']=allsym3['sym'].apply(lambda x: 'Compound::MESH:'+str(x))\n",
    "allsym4=pd.concat([allsym2,allsym3])\n",
    "#allsym4=allsym4[['drugname','DRKGindex']]\n",
    "allsym4['drugname']=[i.upper() for i in allsym4['drugname']]\n",
    "allsym4['drugname']=allsym4['drugname'].apply(lambda x: 'drug_'+str(x))\n",
    "allsym4 = allsym4.rename(columns={'sym':'DRKG_index'})\n",
    "drugname2external1 = allsym4\n",
    "drugname2external1 = drugname2external1[['drugname','DRKG_index']]\n",
    "\n",
    "# CTD drug list\n",
    "drugname2external2=pd.read_csv('/AD_project/sym/drug_name_AD_ctdid.csv')[['name','CTD_id']]\n",
    "drugname2external2.columns=['drugname','DRKG_index']\n",
    "drugname2external2 = drugname2external2[drugname2external2.DRKG_index.isin(entity_drug6)]\n",
    "drugname2external2['DRKG_index']='Compound::MESH:'+drugname2external2['DRKG_index']\n",
    "drugname2external2['drugname']=[i.upper() for i in drugname2external2['drugname']]\n",
    "drugname2external2['drugname']=drugname2external2['drugname'].apply(lambda x: 'drug_'+str(x))\n",
    "drugname2external2 = drugname2external2[['drugname','DRKG_index']]\n",
    "\n",
    "# Although there are some overlaps between two dataframe, create dict for Pubchempy and CTD drugname2id\n",
    "drugname2external = pd.concat([drugname2external1, drugname2external2])\n",
    "drugname2id = dict(drugname2external.values)\n",
    "len(drugname2id)"
   ]
  },
  {
   "cell_type": "code",
   "execution_count": 84,
   "metadata": {},
   "outputs": [
    {
     "data": {
      "text/plain": [
       "3729"
      ]
     },
     "execution_count": 84,
     "metadata": {},
     "output_type": "execute_result"
    }
   ],
   "source": [
    "# Get drug's DRKG IDs\n",
    "drug_drkg=[]\n",
    "\n",
    "for entity in le.classes_ :\n",
    "    if entity.split('_')[0]=='drug':\n",
    "        drkgid=drugname2id.get(entity)\n",
    "        drug_drkg.append(drkgid)\n",
    "len([x for x in drug_drkg if x is not None])"
   ]
  },
  {
   "cell_type": "code",
   "execution_count": 91,
   "metadata": {},
   "outputs": [],
   "source": [
    "gene_drkg = ['Gene::'+entity.split('_')[1] for entity in le.classes_ if entity.split('_')[0]=='gene']\n",
    "pathway_drkg=[entity.replace('pathway_','Pathway::') for entity in le.classes_ if entity.split('_')[0]=='pathway']\n",
    "disease_drkg=['Disease::'+entity.split('_')[1] for entity in le.classes_ if entity.split('_')[0]=='disease']\n",
    "phenotype_drkg=['Biological Process::'+entity.split('_')[1] for entity in le.classes_ if entity.split('_')[0]=='phenotype']\n"
   ]
  },
  {
   "cell_type": "code",
   "execution_count": 93,
   "metadata": {},
   "outputs": [
    {
     "data": {
      "text/plain": [
       "30279"
      ]
     },
     "execution_count": 93,
     "metadata": {},
     "output_type": "execute_result"
    }
   ],
   "source": [
    "len(le.classes_)"
   ]
  },
  {
   "cell_type": "code",
   "execution_count": null,
   "metadata": {},
   "outputs": [],
   "source": [
    "#Get embedding\n",
    "# Get drugname/disease name to entity ID mappings\n",
    "\n",
    "relation_map = {}\n",
    "\n",
    "with open(relation_idmap_file, newline='', encoding='utf-8') as csvfile:\n",
    "    reader = csv.DictReader(csvfile, delimiter='\\t', fieldnames=['name','id'])\n",
    "    for row_val in reader:\n",
    "        relation_map[row_val['name']] = int(row_val['id'])\n",
    "        \n",
    "# handle the ID mapping\n",
    "#bait_ids = []\n",
    "gene_ids = []\n",
    "drug_ids = []\n",
    "phenotype_ids = []\n",
    "pathway_ids = []\n",
    "disease_ids=[]\n",
    "    \n",
    "#for bait in baits_drkg:\n",
    "    #bait_ids.append(entity_map.get(bait))\n",
    "\n",
    "for gene in gene_drkg:\n",
    "    gene_ids.append(entity_map.get(gene))\n",
    "    \n",
    "for drug in drug_drkg:\n",
    "    drug_ids.append(entity_map.get(drug))\n",
    "    \n",
    "for phenotype in phenotype_drkg:\n",
    "    phenotype_ids.append(entity_map.get(phenotype))\n",
    "    \n",
    "for pathway in pathway_drkg:\n",
    "    pathway_ids.append(entity_map.get(pathway))\n",
    "    \n",
    "for disease in disease_drkg:\n",
    "    disease_ids.append(entity_map.get(disease)) "
   ]
  },
  {
   "cell_type": "code",
   "execution_count": null,
   "metadata": {},
   "outputs": [],
   "source": [
    "drug_emb=np.array([entity_emb[drug_id] if drug_id is not None else np.zeros(emb_size) for drug_id in drug_ids ])\n",
    "gene_emb=np.array([entity_emb[gene_id] if gene_id is not None else np.zeros(emb_size) for gene_id in gene_ids ])\n",
    "disease_emb=np.array([entity_emb[disease_id] if disease_id is not None else np.zeros(emb_size) for disease_id in disease_ids ])\n",
    "pathway_emb=np.array([entity_emb[pathway_id] if pathway_id is not None else np.zeros(emb_size) for pathway_id in pathway_ids ])\n",
    "phenotype_emb=np.array([entity_emb[phenotype_id] if phenotype_id is not None else np.zeros(emb_size) for phenotype_id in phenotype_ids ])"
   ]
  },
  {
   "cell_type": "code",
   "execution_count": null,
   "metadata": {},
   "outputs": [],
   "source": [
    "#How many missing in drugs?\n",
    "print(len(drug_ids),len([gene_id for gene_id in drug_ids if gene_id is not None]))\n",
    "#How many missing in genes?\n",
    "print(len(gene_ids),len([gene_id for gene_id in gene_ids if gene_id is not None]))\n",
    "#How many missing in phenotypes?\n",
    "print(len(phenotype_ids),len([gene_id for gene_id in phenotype_ids if gene_id is not None]))\n",
    "#How many missing in pathways?\n",
    "print(len(pathway_ids),len([gene_id for gene_id in pathway_ids if gene_id is not None]))"
   ]
  },
  {
   "cell_type": "code",
   "execution_count": null,
   "metadata": {},
   "outputs": [],
   "source": [
    "node_features=np.concatenate(( drug_emb, gene_emb,pathway_emb, phenotype_emb))"
   ]
  },
  {
   "cell_type": "code",
   "execution_count": null,
   "metadata": {},
   "outputs": [],
   "source": [
    "node_features.shape"
   ]
  },
  {
   "cell_type": "markdown",
   "metadata": {},
   "source": [
    "# get AD_gene_indicator"
   ]
  },
  {
   "cell_type": "code",
   "execution_count": 95,
   "metadata": {},
   "outputs": [],
   "source": [
    "gene_AD_gene=list(adgenelist['mesh'].values)\n",
    "gene_AD_gene.sort()\n",
    "gene_AD_gene_ind=[]\n",
    "gene_AD_index_list=[]\n",
    "for i in le.classes_:\n",
    "    if i in gene_AD_gene:\n",
    "        gene_AD_gene_ind.append(1)\n",
    "        gene_AD_index_list.append(list(le.classes_).index(i))\n",
    "    else:\n",
    "        gene_AD_gene_ind.append(0)"
   ]
  },
  {
   "cell_type": "code",
   "execution_count": 96,
   "metadata": {},
   "outputs": [
    {
     "name": "stdout",
     "output_type": "stream",
     "text": [
      "30279\n"
     ]
    }
   ],
   "source": [
    "print(len(gene_AD_gene_ind))"
   ]
  },
  {
   "cell_type": "markdown",
   "metadata": {},
   "source": [
    "# get AD_gene_mask"
   ]
  },
  {
   "cell_type": "code",
   "execution_count": 98,
   "metadata": {},
   "outputs": [
    {
     "name": "stderr",
     "output_type": "stream",
     "text": [
      "100%|██████████| 30279/30279 [08:01<00:00, 62.82it/s]  \n"
     ]
    }
   ],
   "source": [
    "gene_index_in=[ i for i in list(le.classes_) if 'gene' in i]\n",
    "gene_mask=[]\n",
    "gene_index_list=[]\n",
    "for i in tqdm(le.classes_):\n",
    "    if i in gene_index_in:\n",
    "        gene_mask.append(1)\n",
    "        gene_index_list.append(list(le.classes_).index(i))\n",
    "    else:\n",
    "        gene_mask.append(0)"
   ]
  },
  {
   "cell_type": "code",
   "execution_count": 101,
   "metadata": {},
   "outputs": [],
   "source": [
    "non_ad_gene_list=list(set(gene_index_list).difference(set(gene_AD_index_list)))"
   ]
  },
  {
   "cell_type": "code",
   "execution_count": 102,
   "metadata": {},
   "outputs": [
    {
     "name": "stdout",
     "output_type": "stream",
     "text": [
      "16575\n"
     ]
    }
   ],
   "source": [
    "print(len(non_ad_gene_list))"
   ]
  },
  {
   "cell_type": "code",
   "execution_count": null,
   "metadata": {},
   "outputs": [],
   "source": []
  },
  {
   "cell_type": "markdown",
   "metadata": {},
   "source": [
    "## Save as pickle"
   ]
  },
  {
   "cell_type": "code",
   "execution_count": 115,
   "metadata": {},
   "outputs": [],
   "source": [
    "edge_index=edge_index.dropna()\n",
    "edge_index.to_pickle('./AD_project/pre_process/AD_edge_index_'+exp_id+'_kh.pkl')\n",
    "pickle.dump(node_features, open('./AD_project/pre_process/AD_node_feature_'+exp_id+'_kh.pkl', 'wb'))\n",
    "pickle.dump(codes, open('./AD_project/pre_process/AD_codes_'+exp_id+'_kh.pkl','wb'))\n",
    "pickle.dump(le, open('./AD_project/pre_process/AD_LabelEncoder_'+exp_id+'_kh.pkl','wb'))\n",
    "pickle.dump(gene_AD_gene_ind, open('./AD_project/pre_process/AD_gene_node_class_'+exp_id+'_kh.pkl','wb'))\n",
    "pickle.dump(gene_AD_index_list, open('./AD_project/pre_process/ad_gene_index_'+exp_id+'_kh.pkl','wb'))\n",
    "pickle.dump(gene_mask, open('./AD_project/pre_process/gene_mask_'+exp_id+'_kh.pkl','wb'))\n",
    "pickle.dump(non_ad_gene_list, open('./AD_project/pre_process/non_ad_gene_index_'+exp_id+'_kh.pkl','wb'))"
   ]
  }
 ],
 "metadata": {
  "kernelspec": {
   "display_name": "Python 3",
   "language": "python",
   "name": "python3"
  },
  "language_info": {
   "codemirror_mode": {
    "name": "ipython",
    "version": 3
   },
   "file_extension": ".py",
   "mimetype": "text/x-python",
   "name": "python",
   "nbconvert_exporter": "python",
   "pygments_lexer": "ipython3",
   "version": "3.8.5"
  }
 },
 "nbformat": 4,
 "nbformat_minor": 2
}
