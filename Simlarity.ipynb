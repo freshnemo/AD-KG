{
 "cells": [
  {
   "cell_type": "code",
   "execution_count": 1,
   "metadata": {},
   "outputs": [],
   "source": [
    "import pandas as pd\n",
    "import os\n",
    "from tqdm import tqdm\n",
    "import numpy as np\n",
    "from multiprocessing import  Pool,cpu_count\n",
    "from itertools import product\n",
    "from functools import partial\n",
    "from rdkit import Chem, DataStructs\n",
    "from rdkit.Chem.AtomPairs import Pairs\n",
    "from rdkit.Chem import MACCSkeys, AllChem"
   ]
  },
  {
   "cell_type": "code",
   "execution_count": 2,
   "metadata": {},
   "outputs": [],
   "source": [
    "allsmile= pd.read_csv('./AD_project/druglist_smiles.csv')"
   ]
  },
  {
   "cell_type": "markdown",
   "metadata": {},
   "source": [
    "# Atom Pairs "
   ]
  },
  {
   "cell_type": "code",
   "execution_count": 3,
   "metadata": {},
   "outputs": [],
   "source": [
    "def atompairfu (partialframe, fullframe):\n",
    "    drugalist=[]\n",
    "    drugblist=[]\n",
    "    simscorelist=[]\n",
    "    allsmilelist=[Chem.MolFromSmiles(i) for i in fullframe.smile.values]\n",
    "    allsmilelist=[Pairs.GetAtomPairFingerprint(x) for x in allsmilelist]\n",
    "    alldrugname= fullframe.drugname.values\n",
    "    for i in tqdm(range(len(partialframe))):\n",
    "        druga=partialframe.drugname.values[i]\n",
    "        drugasmile=Chem.MolFromSmiles(partialframe.smile.values[i])\n",
    "        drugasmile=Pairs.GetAtomPairFingerprint(drugasmile)\n",
    "        for j in range(len(alldrugname)):\n",
    "            drugb=alldrugname[j]\n",
    "            drugbsmile=allsmilelist[j]\n",
    "            try:\n",
    "                simscore=DataStructs.DiceSimilarity(drugasmile,drugbsmile) # default Tanimoto similarity \n",
    "                drugalist.append(druga)\n",
    "                drugblist.append(drugb)\n",
    "                simscorelist.append(simscore)\n",
    "            except:\n",
    "                drugalist.append(druga)\n",
    "                drugblist.append(drugb)\n",
    "                simscorelist.append('')\n",
    "    returnfr=pd.DataFrame(drugalist, columns=['drug_a'])\n",
    "    returnfr['drug_b']=drugblist\n",
    "    returnfr['score']=simscorelist\n",
    "    return returnfr"
   ]
  },
  {
   "cell_type": "code",
   "execution_count": 4,
   "metadata": {},
   "outputs": [
    {
     "name": "stderr",
     "output_type": "stream",
     "text": [
      "100%|██████████| 103/103 [00:04<00:00, 21.35it/s]\n",
      " 96%|█████████▌| 98/102 [00:05<00:00, 21.69it/s]]\n",
      "100%|██████████| 103/103 [00:05<00:00, 18.95it/s]\n",
      "100%|██████████| 102/102 [00:05<00:00, 19.67it/s]\n",
      "100%|██████████| 102/102 [00:05<00:00, 19.05it/s]\n",
      "100%|██████████| 102/102 [00:04<00:00, 20.86it/s]\n",
      "100%|██████████| 102/102 [00:05<00:00, 18.42it/s]\n",
      "100%|██████████| 103/103 [00:04<00:00, 20.62it/s]\n",
      "\n",
      "100%|██████████| 102/102 [00:04<00:00, 20.79it/s]\n",
      "100%|██████████| 102/102 [00:05<00:00, 19.28it/s]\n",
      "100%|██████████| 103/103 [00:05<00:00, 20.25it/s]\n",
      "100%|██████████| 103/103 [00:05<00:00, 20.30it/s]\n",
      "100%|██████████| 102/102 [00:05<00:00, 20.04it/s]\n",
      "100%|██████████| 102/102 [00:05<00:00, 20.27it/s]\n",
      " 95%|█████████▌| 98/103 [00:05<00:00, 19.26it/s]\n",
      "100%|██████████| 102/102 [00:05<00:00, 19.78it/s]\n",
      "100%|██████████| 102/102 [00:05<00:00, 19.56it/s]\n",
      "100%|██████████| 102/102 [00:05<00:00, 19.87it/s]\n",
      "100%|██████████| 102/102 [00:05<00:00, 19.52it/s]\n",
      " 99%|█████████▉| 101/102 [00:05<00:00, 22.39it/s]\n",
      "100%|██████████| 102/102 [00:05<00:00, 19.31it/s]\n",
      "100%|██████████| 103/103 [00:05<00:00, 19.13it/s]\n",
      "\n",
      "100%|██████████| 103/103 [00:05<00:00, 18.96it/s]\n",
      "100%|██████████| 102/102 [00:05<00:00, 18.98it/s]\n",
      "100%|██████████| 102/102 [00:05<00:00, 18.65it/s]\n",
      "100%|██████████| 103/103 [00:05<00:00, 18.75it/s]\n",
      "100%|██████████| 102/102 [00:05<00:00, 19.02it/s]\n",
      "100%|██████████| 102/102 [00:05<00:00, 18.95it/s]\n",
      "100%|██████████| 103/103 [00:05<00:00, 18.74it/s]\n",
      "100%|██████████| 102/102 [00:05<00:00, 18.61it/s]\n",
      "100%|██████████| 102/102 [00:05<00:00, 18.65it/s]\n",
      "100%|██████████| 102/102 [00:05<00:00, 18.50it/s]\n",
      "100%|██████████| 102/102 [00:05<00:00, 18.81it/s]\n",
      "100%|██████████| 102/102 [00:05<00:00, 18.36it/s]\n",
      "100%|██████████| 102/102 [00:05<00:00, 17.15it/s]\n",
      "100%|██████████| 102/102 [00:05<00:00, 17.85it/s]\n",
      "100%|██████████| 102/102 [00:06<00:00, 17.00it/s]\n",
      "100%|██████████| 102/102 [00:05<00:00, 17.13it/s]\n"
     ]
    }
   ],
   "source": [
    "n_cores=40\n",
    "score_split = np.array_split(allsmile, n_cores)\n",
    "pool = Pool(n_cores)\n",
    "final_train = pd.concat(pool.map(partial(atompairfu, fullframe=allsmile),score_split))\n",
    "final_train['zscore'] = (final_train.score - final_train.score.mean())/final_train.score.std(ddof=0)"
   ]
  },
  {
   "cell_type": "markdown",
   "metadata": {},
   "source": [
    "# MACCS Key"
   ]
  },
  {
   "cell_type": "code",
   "execution_count": 5,
   "metadata": {},
   "outputs": [],
   "source": [
    "def MACCSfu (partialframe, fullframe):\n",
    "    drugalist=[]\n",
    "    drugblist=[]\n",
    "    simscorelist=[]\n",
    "    allsmilelist=[Chem.MolFromSmiles(i) for i in fullframe.smile.values]\n",
    "    allsmilelist=[MACCSkeys.GenMACCSKeys(x) for x in allsmilelist]\n",
    "    alldrugname= fullframe.drugname.values\n",
    "    for i in tqdm(range(len(partialframe))):\n",
    "        druga=partialframe.drugname.values[i]\n",
    "        drugasmile=Chem.MolFromSmiles(partialframe.smile.values[i])\n",
    "        drugasmile=MACCSkeys.GenMACCSKeys(drugasmile)\n",
    "        for j in range(len(alldrugname)):\n",
    "            drugb=alldrugname[j]\n",
    "            drugbsmile=allsmilelist[j]\n",
    "            try:\n",
    "                simscore=DataStructs.FingerprintSimilarity(drugasmile,drugbsmile) # default Tanimoto similarity \n",
    "                drugalist.append(druga)\n",
    "                drugblist.append(drugb)\n",
    "                simscorelist.append(simscore)\n",
    "            except:\n",
    "                drugalist.append(druga)\n",
    "                drugblist.append(drugb)\n",
    "                simscorelist.append('')\n",
    "    returnfr=pd.DataFrame(drugalist, columns=['drug_a'])\n",
    "    returnfr['drug_b']=drugblist\n",
    "    returnfr['score']=simscorelist\n",
    "    return returnfr"
   ]
  },
  {
   "cell_type": "code",
   "execution_count": 6,
   "metadata": {},
   "outputs": [
    {
     "name": "stderr",
     "output_type": "stream",
     "text": [
      "100%|██████████| 103/103 [00:02<00:00, 35.11it/s]\n",
      " 39%|███▉      | 40/102 [00:01<00:02, 29.16it/s]]\n",
      "100%|██████████| 102/102 [00:03<00:00, 33.21it/s]\n",
      "100%|██████████| 102/102 [00:03<00:00, 30.50it/s]\n",
      "100%|██████████| 103/103 [00:03<00:00, 30.27it/s]\n",
      "100%|██████████| 102/102 [00:02<00:00, 34.61it/s]\n",
      "100%|██████████| 103/103 [00:03<00:00, 33.96it/s]\n",
      "100%|██████████| 103/103 [00:03<00:00, 30.84it/s]\n",
      "100%|██████████| 102/102 [00:02<00:00, 34.92it/s]\n",
      "100%|██████████| 102/102 [00:03<00:00, 31.70it/s]\n",
      "100%|██████████| 102/102 [00:02<00:00, 37.07it/s]\n",
      "100%|██████████| 102/102 [00:03<00:00, 31.59it/s]\n",
      "100%|██████████| 103/103 [00:02<00:00, 36.07it/s]\n",
      " 85%|████████▌ | 87/102 [00:02<00:00, 29.45it/s]]\n",
      " 94%|█████████▍| 96/102 [00:03<00:00, 31.73it/s]]\n",
      "100%|██████████| 102/102 [00:03<00:00, 32.77it/s]\n",
      "100%|██████████| 102/102 [00:03<00:00, 32.13it/s]\n",
      "100%|██████████| 103/103 [00:03<00:00, 32.76it/s]\n",
      "100%|██████████| 102/102 [00:03<00:00, 31.05it/s]\n",
      "100%|██████████| 102/102 [00:02<00:00, 34.04it/s]\n",
      "100%|██████████| 102/102 [00:03<00:00, 33.46it/s]\n",
      "100%|██████████| 102/102 [00:03<00:00, 30.86it/s]\n",
      "100%|██████████| 102/102 [00:03<00:00, 30.77it/s]\n",
      "100%|██████████| 102/102 [00:03<00:00, 32.44it/s]\n",
      "100%|██████████| 103/103 [00:03<00:00, 30.09it/s]\n",
      "100%|██████████| 103/103 [00:03<00:00, 31.48it/s]\n",
      "100%|██████████| 102/102 [00:03<00:00, 30.07it/s]\n",
      "100%|██████████| 102/102 [00:03<00:00, 31.04it/s]\n",
      "100%|██████████| 102/102 [00:03<00:00, 31.21it/s]\n",
      "100%|██████████| 102/102 [00:03<00:00, 31.24it/s]\n",
      "100%|██████████| 103/103 [00:02<00:00, 35.75it/s]\n",
      "100%|██████████| 102/102 [00:03<00:00, 33.47it/s]\n",
      "100%|██████████| 102/102 [00:02<00:00, 34.40it/s]\n",
      "100%|██████████| 103/103 [00:03<00:00, 33.98it/s]\n",
      "100%|██████████| 102/102 [00:02<00:00, 34.17it/s]\n",
      "100%|██████████| 103/103 [00:03<00:00, 33.90it/s]\n",
      "100%|██████████| 102/102 [00:03<00:00, 31.89it/s]\n",
      "100%|██████████| 102/102 [00:03<00:00, 31.87it/s]\n",
      "100%|██████████| 102/102 [00:03<00:00, 31.12it/s]\n",
      "100%|██████████| 102/102 [00:03<00:00, 30.70it/s]\n"
     ]
    }
   ],
   "source": [
    "n_cores=40\n",
    "score_split = np.array_split(allsmile, n_cores)\n",
    "pool = Pool(n_cores)\n",
    "final_train1 = pd.concat(pool.map(partial(MACCSfu, fullframe=allsmile),score_split))\n",
    "final_train1['zscore'] = (final_train1.score - final_train1.score.mean())/final_train1.score.std(ddof=0)"
   ]
  },
  {
   "cell_type": "markdown",
   "metadata": {},
   "source": [
    "# Morgan Fingerprint Similarity (set radius = 2)"
   ]
  },
  {
   "cell_type": "code",
   "execution_count": 7,
   "metadata": {},
   "outputs": [],
   "source": [
    "# Set radius = 2\n",
    "def Morganfu (partialframe, fullframe):\n",
    "    drugalist=[]\n",
    "    drugblist=[]\n",
    "    simscorelist=[]\n",
    "    allsmilelist=[Chem.MolFromSmiles(i) for i in fullframe.smile.values]\n",
    "    allsmilelist=[AllChem.GetMorganFingerprint(x,2) for x in allsmilelist]\n",
    "    alldrugname= fullframe.drugname.values\n",
    "    for i in tqdm(range(len(partialframe))):\n",
    "        druga=partialframe.drugname.values[i]\n",
    "        drugasmile=Chem.MolFromSmiles(partialframe.smile.values[i])\n",
    "        drugasmile=AllChem.GetMorganFingerprint(drugasmile,2)\n",
    "        for j in range(len(alldrugname)):\n",
    "            drugb=alldrugname[j]\n",
    "            drugbsmile=allsmilelist[j]\n",
    "            try:\n",
    "                simscore=DataStructs.DiceSimilarity(drugasmile,drugbsmile) # default Tanimoto similarity \n",
    "                drugalist.append(druga)\n",
    "                drugblist.append(drugb)\n",
    "                simscorelist.append(simscore)\n",
    "            except:\n",
    "                drugalist.append(druga)\n",
    "                drugblist.append(drugb)\n",
    "                simscorelist.append('')\n",
    "    returnfr=pd.DataFrame(drugalist, columns=['drug_a'])\n",
    "    returnfr['drug_b']=drugblist\n",
    "    returnfr['score']=simscorelist\n",
    "    return returnfr"
   ]
  },
  {
   "cell_type": "code",
   "execution_count": 8,
   "metadata": {},
   "outputs": [
    {
     "name": "stderr",
     "output_type": "stream",
     "text": [
      "100%|██████████| 103/103 [00:01<00:00, 57.32it/s]\n",
      "100%|██████████| 102/102 [00:01<00:00, 58.97it/s]\n",
      " 68%|██████▊   | 69/102 [00:01<00:00, 44.81it/s]]\n",
      " 65%|██████▌   | 67/103 [00:01<00:00, 40.67it/s]]\n",
      "100%|██████████| 102/102 [00:02<00:00, 49.88it/s]\n",
      "100%|██████████| 102/102 [00:02<00:00, 47.48it/s]\n",
      "100%|██████████| 102/102 [00:02<00:00, 50.32it/s]\n",
      " 87%|████████▋ | 89/102 [00:01<00:00, 44.59it/s]]\n",
      " 74%|███████▍  | 76/103 [00:01<00:00, 39.13it/s]]\n",
      "100%|██████████| 102/102 [00:02<00:00, 45.85it/s]\n",
      "100%|██████████| 102/102 [00:02<00:00, 44.44it/s]\n",
      " 92%|█████████▏| 94/102 [00:01<00:00, 45.47it/s]]\n",
      " 86%|████████▋ | 88/102 [00:01<00:00, 44.58it/s]]\n",
      "\n",
      " 84%|████████▍ | 86/102 [00:01<00:00, 45.65it/s]]\n",
      "100%|██████████| 102/102 [00:02<00:00, 50.11it/s]\n",
      "100%|██████████| 102/102 [00:02<00:00, 46.03it/s]\n",
      "100%|██████████| 102/102 [00:02<00:00, 49.33it/s]\n",
      "100%|██████████| 102/102 [00:02<00:00, 48.87it/s]\n",
      "100%|██████████| 102/102 [00:02<00:00, 44.72it/s]\n",
      " 96%|█████████▌| 99/103 [00:02<00:00, 46.74it/s]]\n",
      "100%|██████████| 102/102 [00:02<00:00, 48.81it/s]\n",
      "100%|██████████| 102/102 [00:02<00:00, 47.71it/s]\n",
      "100%|██████████| 103/103 [00:02<00:00, 46.97it/s]\n",
      "100%|██████████| 103/103 [00:02<00:00, 46.30it/s]\n",
      "100%|██████████| 102/102 [00:02<00:00, 47.16it/s]\n",
      "\n",
      " 92%|█████████▏| 95/103 [00:02<00:00, 40.75it/s]]\n",
      " 96%|█████████▌| 99/103 [00:02<00:00, 42.42it/s]]\n",
      "100%|██████████| 102/102 [00:02<00:00, 45.51it/s]\n",
      "100%|██████████| 102/102 [00:02<00:00, 46.02it/s]\n",
      "100%|██████████| 102/102 [00:02<00:00, 45.67it/s]\n",
      "100%|██████████| 102/102 [00:02<00:00, 44.82it/s]\n",
      "100%|██████████| 103/103 [00:02<00:00, 44.26it/s]\n",
      "100%|██████████| 103/103 [00:02<00:00, 43.93it/s]\n",
      "100%|██████████| 102/102 [00:02<00:00, 44.34it/s]\n",
      "100%|██████████| 103/103 [00:02<00:00, 43.33it/s]\n",
      "100%|██████████| 102/102 [00:02<00:00, 43.43it/s]\n",
      "100%|██████████| 103/103 [00:02<00:00, 42.50it/s]\n",
      "100%|██████████| 102/102 [00:02<00:00, 42.56it/s]\n"
     ]
    }
   ],
   "source": [
    "n_cores=40\n",
    "score_split = np.array_split(allsmile, n_cores)\n",
    "pool = Pool(n_cores)\n",
    "final_train2 = pd.concat(pool.map(partial(Morganfu, fullframe=allsmile),score_split))\n",
    "final_train2['zscore'] = (final_train2.score - final_train2.score.mean())/final_train2.score.std(ddof=0)"
   ]
  },
  {
   "cell_type": "markdown",
   "metadata": {},
   "source": [
    "# Topological Fingerprints"
   ]
  },
  {
   "cell_type": "code",
   "execution_count": 9,
   "metadata": {},
   "outputs": [],
   "source": [
    "def Topofu (partialframe, fullframe):\n",
    "    drugalist=[]\n",
    "    drugblist=[]\n",
    "    simscorelist=[]\n",
    "    allsmilelist=[Chem.MolFromSmiles(i) for i in fullframe.smile.values]\n",
    "    allsmilelist=[Chem.RDKFingerprint(x) for x in allsmilelist]\n",
    "    alldrugname= fullframe.drugname.values\n",
    "    for i in tqdm(range(len(partialframe))):\n",
    "        druga=partialframe.drugname.values[i]\n",
    "        drugasmile=Chem.MolFromSmiles(partialframe.smile.values[i])\n",
    "        drugasmile=Chem.RDKFingerprint(drugasmile)\n",
    "        for j in range(len(alldrugname)):\n",
    "            drugb=alldrugname[j]\n",
    "            drugbsmile=allsmilelist[j]\n",
    "            try:\n",
    "                simscore=DataStructs.FingerprintSimilarity(drugasmile,drugbsmile)\n",
    "                drugalist.append(druga)\n",
    "                drugblist.append(drugb)\n",
    "                simscorelist.append(simscore)\n",
    "            except:\n",
    "                drugalist.append(druga)\n",
    "                drugblist.append(drugb)\n",
    "                simscorelist.append('')\n",
    "    returnfr=pd.DataFrame(drugalist, columns=['drug_a'])\n",
    "    returnfr['drug_b']=drugblist\n",
    "    returnfr['score']=simscorelist\n",
    "    return returnfr"
   ]
  },
  {
   "cell_type": "code",
   "execution_count": 10,
   "metadata": {},
   "outputs": [
    {
     "name": "stderr",
     "output_type": "stream",
     "text": [
      "100%|██████████| 103/103 [00:02<00:00, 42.60it/s]\n",
      "100%|██████████| 102/102 [00:02<00:00, 42.97it/s]\n",
      "100%|██████████| 102/102 [00:02<00:00, 41.72it/s]\n",
      "100%|██████████| 102/102 [00:02<00:00, 42.50it/s]\n",
      "100%|██████████| 103/103 [00:02<00:00, 42.07it/s]\n",
      "100%|██████████| 102/102 [00:02<00:00, 35.91it/s]\n",
      "100%|██████████| 102/102 [00:03<00:00, 33.11it/s]\n",
      " 41%|████      | 42/102 [00:01<00:02, 27.06it/s]]\n",
      "100%|██████████| 102/102 [00:03<00:00, 32.78it/s]\n",
      "100%|██████████| 103/103 [00:02<00:00, 34.72it/s]\n",
      "100%|██████████| 102/102 [00:03<00:00, 31.21it/s]\n",
      "100%|██████████| 103/103 [00:03<00:00, 32.31it/s]\n",
      "100%|██████████| 102/102 [00:03<00:00, 30.53it/s]\n",
      " 41%|████      | 42/103 [00:01<00:01, 34.78it/s]]\n",
      "100%|██████████| 102/102 [00:02<00:00, 38.66it/s]\n",
      "100%|██████████| 102/102 [00:03<00:00, 31.29it/s]\n",
      "100%|██████████| 102/102 [00:03<00:00, 31.43it/s]\n",
      " 81%|████████▏ | 83/102 [00:02<00:00, 36.56it/s]]\n",
      "100%|██████████| 103/103 [00:02<00:00, 36.05it/s]\n",
      "100%|██████████| 103/103 [00:02<00:00, 35.16it/s]\n",
      "100%|██████████| 102/102 [00:02<00:00, 34.86it/s]\n",
      " 94%|█████████▍| 96/102 [00:02<00:00, 28.61it/s]]\n",
      "100%|██████████| 103/103 [00:03<00:00, 31.39it/s]\n",
      "100%|██████████| 103/103 [00:03<00:00, 33.34it/s]\n",
      "100%|██████████| 103/103 [00:03<00:00, 33.72it/s]\n",
      "100%|██████████| 103/103 [00:03<00:00, 32.96it/s]\n",
      " 96%|█████████▌| 98/102 [00:03<00:00, 32.21it/s]]\n",
      "100%|██████████| 102/102 [00:03<00:00, 33.15it/s]\n",
      "100%|██████████| 102/102 [00:03<00:00, 32.53it/s]\n",
      "100%|██████████| 102/102 [00:03<00:00, 30.30it/s]\n",
      "100%|██████████| 102/102 [00:03<00:00, 31.62it/s]\n",
      "100%|██████████| 102/102 [00:03<00:00, 31.73it/s]\n",
      "100%|██████████| 102/102 [00:03<00:00, 31.60it/s]\n",
      "100%|██████████| 102/102 [00:03<00:00, 31.81it/s]\n",
      "100%|██████████| 102/102 [00:03<00:00, 31.38it/s]\n",
      "100%|██████████| 103/103 [00:03<00:00, 30.89it/s]\n",
      "100%|██████████| 102/102 [00:03<00:00, 30.33it/s]\n",
      "100%|██████████| 102/102 [00:03<00:00, 30.41it/s]\n",
      "100%|██████████| 102/102 [00:03<00:00, 29.66it/s]\n",
      "100%|██████████| 102/102 [00:03<00:00, 29.41it/s]\n"
     ]
    }
   ],
   "source": [
    "n_cores=40\n",
    "score_split = np.array_split(allsmile, n_cores)\n",
    "pool = Pool(n_cores)\n",
    "final_train4 = pd.concat(pool.map(partial(Topofu, fullframe=allsmile),score_split))\n",
    "final_train4['zscore'] = (final_train4.score - final_train4.score.mean())/final_train4.score.std(ddof=0)"
   ]
  },
  {
   "cell_type": "markdown",
   "metadata": {},
   "source": [
    "# Comparison"
   ]
  },
  {
   "cell_type": "code",
   "execution_count": 11,
   "metadata": {},
   "outputs": [],
   "source": [
    "# Set threshold of zscore >= 3. Use only atom-pair, MACCS, Morgan_2, Topology\n",
    "i = 3\n",
    "path = '/home/AD_project/similarity_tables/'\n",
    "df = pd.concat([final_train[final_train.zscore>=i], final_train1[final_train.zscore>=i], final_train2[final_train.zscore>=i], final_train4[final_train4.zscore>=i]])\n",
    "df = df[['drug_a', 'drug_b']].drop_duplicates()\n",
    "df['drug_a'] = df['drug_a'].apply(lambda x:'drug_'+x)\n",
    "df['drug_b'] = df['drug_b'].apply(lambda x:'drug_'+x)\n",
    "#df.to_csv('./AD_project/drug_similarity.csv')"
   ]
  }
 ],
 "metadata": {
  "kernelspec": {
   "display_name": "Python 3",
   "language": "python",
   "name": "python3"
  },
  "language_info": {
   "codemirror_mode": {
    "name": "ipython",
    "version": 3
   },
   "file_extension": ".py",
   "mimetype": "text/x-python",
   "name": "python",
   "nbconvert_exporter": "python",
   "pygments_lexer": "ipython3",
   "version": "3.8.5"
  }
 },
 "nbformat": 4,
 "nbformat_minor": 4
}
